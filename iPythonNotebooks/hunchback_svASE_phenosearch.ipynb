{
 "cells": [
  {
   "cell_type": "code",
   "outputs": [],
   "source": [
    "import itertools as it"
   ]
  },
  {
   "cell_type": "code",
   "execution_count": 1,
   "metadata": {
    "collapsed": false
   },
   "outputs": [
    {
     "name": "stdout",
     "output_type": "stream",
     "text": [
      "/home/pcombs/HybridSliceSeq\n"
     ]
    }
   ],
   "source": [
    "cd /home/pcombs/HybridSliceSeq/"
   ]
  },
  {
   "cell_type": "code",
   "execution_count": 2,
   "metadata": {
    "collapsed": false
   },
   "outputs": [
    {
     "name": "stdout",
     "output_type": "stream",
     "text": [
      "hb (0.8, 0.9) Ttest_relResult(statistic=-1.032659600847682, pvalue=0.30238407189572036) mel 0.12532483230830577 0.615939288506 sim 0.13909631837139153 0.841035725991\n",
      "Kr (0.74, 0.85) Ttest_relResult(statistic=-0.061848023029036935, pvalue=0.95071459752046594) mel 0.12718801456473655 0.0 sim 0.12801283575108363 0.000877108122924\n",
      "hb (0.6, 0.75) Ttest_relResult(statistic=-1.2117807413390178, pvalue=0.22630809815899106) mel 0.10883050159661532 0.000917101580818 sim 0.12249400918578139 0.00910168166805\n",
      "hb (0, 0.1) Ttest_relResult(statistic=3.9880719158139, pvalue=7.9135899458648723e-05) mel 0.26650408156140204 0.121946146282 sim 0.1909296151397746 0.0936893326274\n",
      "hb (0.2, 0.5) Ttest_relResult(statistic=-0.83449572952025453, pvalue=0.40449731296552183) mel 0.12129502360069354 0.39171448021 sim 0.1299268058938712 0.290900839573\n",
      "Kr (0.33, 0.44) Ttest_relResult(statistic=-0.67745794570282203, pvalue=0.49850513161658261) mel 0.1172213409201112 0.0737802715166 sim 0.12476972148702709 0.403734158847\n",
      "Kr (0.55, 0.72) Ttest_relResult(statistic=-1.2880487925588353, pvalue=0.19846989329053938) mel 0.11073068603157352 0.341332107962 sim 0.1252904655826962 0.0636096868853\n"
     ]
    }
   ],
   "source": [
    "run Compare_svASE_TF_effects.py"
   ]
  },
  {
   "cell_type": "code",
   "execution_count": 10,
   "metadata": {
    "collapsed": true
   },
   "outputs": [],
   "source": [
    "region_name, tf, region = 'hb_ant_tip', 'hb', (0, 0.1)\n",
    "peak_genes = {line.strip() for line in\n",
    "                  open(\n",
    "                      #'analysis/results/{}_1000_peak_genes_2500bp_tss.txt'\n",
    "                      'analysis/results/hb_wt_emd_0.1.txt'\n",
    "                      #'analysis/results/{}_tss_genes.txt'\n",
    "                      .format(tf.lower()))\n",
    "                  if line.strip() in expr.index}\n",
    "peak_genes.add(tf)\n",
    "\n",
    "all_in_region_ix = (region[0] <= xs) & (xs < region[1])\n",
    "mel_in_region_ix = (region[0] <= mel_xs) & (mel_xs < region[1])\n",
    "sim_in_region_ix = (region[0] <= sim_xs) & (sim_xs < region[1])\n",
    "parental_in_region_ix = (region[0] <= parental_xs) & (parental_xs < region[1])\n",
    "\n",
    "gene_expr_level = parental.ix[peak_genes, parental_in_region_ix].min(axis=1)\n",
    "expr_in_region = ut.true_index(gene_expr_level > -1)\n",
    "\n",
    "non_mat_expr_genes = expr_in_region.difference(mat_genes)\n",
    "non_mat_expr_genes = mel_sim_ratio.ix[non_mat_expr_genes,\n",
    "                                       mel_in_region_ix].mean(axis=1).sort_values().index\n",
    "nmegs.append(non_mat_expr_genes)\n",
    " \n",
    "mel_in_region = (melXmel.ix[non_mat_expr_genes, mel_in_region_ix]\n",
    "                  .divide(parental.ix[non_mat_expr_genes, :]\n",
    "                          .max(axis=1), axis=0)\n",
    "                  .mean(axis=1))\n",
    "sim_in_region = (simXsim.ix[non_mat_expr_genes, sim_in_region_ix]\n",
    "                  .divide(parental.ix[non_mat_expr_genes, :]\n",
    "                          .max(axis=1), axis=0)\n",
    "                  .mean(axis=1))"
   ]
  },
  {
   "cell_type": "code",
   "execution_count": 12,
   "outputs": [],
   "source": [
    "\n",
    "def grouper(iterable, n, fillvalue=None):\n",
    "    \"Collect data into fixed-length chunks or blocks\"\n",
    "    # grouper('ABCDEFG', 3, 'x') --> ABC DEF Gxx\n",
    "    args = [iter(iterable)] * n\n",
    "    return it.zip_longest(fillvalue=fillvalue, *args)"
   ]
  },
  {
   "cell_type": "code",
   "metadata": {
    "collapsed": false
   },
   "outputs": [
    {
     "name": "stdout",
     "output_type": "stream",
     "text": [
      "Yp3\tRpi\tMdr49\tCG11897\tCG31710\tUnc-76\tCG17119\n",
      "CG13321\tbnl\tTsp\tCG45218\tCG4133\tCpr78Cc\tCG14958\n",
      "ktub\tkni\tnrm\thkb\tAdgf-A\tCG33057\tfog\n",
      "CG15916\tCG15530\tCG5780\tCG15534\tCG31121\tsick\tJhe\n",
      "CG13384\tCG15547\tsPLA2\tCG11275\tCG15905\tCG13711\tCG34136\n",
      "Damm\tCG12014\tade2\tCG10151\tCG1273\tGstO3\tGstT4\n",
      "Strica\tsad\tGapdh1\tCG9628\tNdae1\tCG7387\tCG33340\n",
      "Dscam2\tGasp\tbnk\tGraf\tCG5080\tCG2533\tCG3597\n",
      "CG43376\tMyd88\tCG5853\tCpr35B\tCG18327\tCG8738\tscw\n",
      "CG32971\tCG2217\tOsi22\tImpE2\tCG7322\tfrma\tCG3097\n",
      "CG30409\tCG43052\tCG9875\tCG31728\tCG4829\tBest2\tedin\n",
      "CG30380\tCG15533\tCG33468\tCG6971\tCG13023\tCG13733\tAcp95EF\n",
      "CG14204\tCG34107\ttap\tCG44040\tCG12964\tCG12986\tCG9822\n",
      "fd19B\tWhamy\tCheB38b\tCG34012\tCG43645\tCG42587\tIM1\n",
      "CG13044\tCG2147\tVdup1\tTwdlW\tCG17134\tCG9512\tCG1387\n",
      "CG17018\tCG14645\tCG10553\tIM14\tCG42819\tCG34194\tCG34250\n",
      "CG2604\tamd\tCG13022\tSpat\tImpL3\tCG14207\tCG11905\n",
      "Cpr73D\t\t\t\t\t\t\n",
      "--------------------------------------------------\n",
      "Six4\tCG10073\tshu\tgrn\tCyp6d5\tcomm\trobls54B\n",
      "ste14\tCG34205\tPask\tCG6415\tToll-6\tCG6388\tSnm1\n",
      "CG10062\tCG13893\tDNaseII\tana\tbam\tCG10253\tCG13749\n",
      "unc-5\tdare\tE(spl)m6-BFM\tSend2\tCG16886\try\tCG9416\n",
      "hid\tCG12496\tObp99a\tpyd3\tEdg78E\tCad88C\tCG8586\n",
      "Orct2\ttoy\tstumps\tCG12708\tCG5846\tCG43085\taos\n",
      "Cht2\tbowl\tupd2\tpuc\tMkp3\tCpr72Ea\tHmx\n",
      "CG18598\tCG17294\tCG15646\tspartin\tCG11655\tinsc\tCG13921\n",
      "CG43318\tE(spl)mdelta-HLH\tjar\tCG8519\tbrv2\tCyt-c1L\tCpr78Cb\n",
      "CG3829\tPebp1\tCG34007\tCpr72Eb\tpdm2\tCG10357\t\n"
     ]
    }
   ],
   "source": [
    "ncols=7\n",
    "print('\\n'.join(['\\t'.join(a) for a in grouper(ut.true_index((mel_in_region - sim_in_region) > .25), ncols, '')]))\n",
    "print('-'*50)\n",
    "print('\\n'.join(['\\t'.join(a) for a in grouper(ut.true_index((mel_in_region - sim_in_region) < -.25), ncols, '')]))"
   ]
  },
  {
   "cell_type": "code",
   "execution_count": 36,
   "metadata": {
    "collapsed": true
   },
   "outputs": [],
   "source": [
    "import jupyter_client"
   ]
  },
  {
   "cell_type": "markdown",
   "metadata": {},
   "source": [
    "This is a cell $x^2$"
   ]
  },
  {
   "cell_type": "code",
   "execution_count": 41,
   "metadata": {
    "collapsed": false
   },
   "outputs": [
    {
     "name": "stdout",
     "output_type": "stream",
     "text": [
      "hb      0.121946\n",
      "Kr      0.027682\n",
      "nub     0.012701\n",
      "pdm2    0.170779\n",
      "cas     0.000000\n",
      "dtype: float64\n",
      "hb      0.093689\n",
      "Kr      0.085450\n",
      "nub     0.075821\n",
      "pdm2    0.474861\n",
      "cas     0.013614\n",
      "dtype: float64\n"
     ]
    }
   ],
   "source": [
    "neural_cascade = ['hb', 'Kr', 'nub', 'pdm2', 'cas']\n",
    "print(mel_in_region.ix[neural_cascade])\n",
    "print(sim_in_region.ix[neural_cascade])"
   ]
  },
  {
   "cell_type": "code",
   "execution_count": null,
   "metadata": {
    "collapsed": true
   },
   "outputs": [],
   "source": []
  }
 ],
 "metadata": {
  "anaconda-cloud": {},
  "kernelspec": {
   "display_name": "Python [conda root]",
   "language": "python",
   "name": "conda-root-py"
  },
  "language_info": {
   "codemirror_mode": {
    "name": "ipython",
    "version": 3
   },
   "file_extension": ".py",
   "mimetype": "text/x-python",
   "name": "python",
   "nbconvert_exporter": "python",
   "pygments_lexer": "ipython3",
   "version": "3.5.2"
  }
 },
 "nbformat": 4,
 "nbformat_minor": 1
}
