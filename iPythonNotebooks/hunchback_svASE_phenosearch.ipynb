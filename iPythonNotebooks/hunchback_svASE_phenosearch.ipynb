{
 "cells": [
  {
   "cell_type": "code",
   "execution_count": 1,
   "metadata": {
    "collapsed": false
   },
   "outputs": [
    {
     "name": "stdout",
     "output_type": "stream",
     "text": [
      "/home/pcombs/HybridSliceSeq\n"
     ]
    }
   ],
   "source": [
    "cd /home/pcombs/HybridSliceSeq/"
   ]
  },
  {
   "cell_type": "code",
   "execution_count": 2,
   "metadata": {
    "collapsed": false
   },
   "outputs": [
    {
     "name": "stdout",
     "output_type": "stream",
     "text": [
      "hb (0.8, 0.9) Ttest_relResult(statistic=-1.032659600847682, pvalue=0.30238407189572036) mel 0.12532483230830577 0.615939288506 sim 0.13909631837139153 0.841035725991\n",
      "Kr (0.74, 0.85) Ttest_relResult(statistic=-0.061848023029036935, pvalue=0.95071459752046594) mel 0.12718801456473655 0.0 sim 0.12801283575108363 0.000877108122924\n",
      "hb (0.6, 0.75) Ttest_relResult(statistic=-1.2117807413390178, pvalue=0.22630809815899106) mel 0.10883050159661532 0.000917101580818 sim 0.12249400918578139 0.00910168166805\n",
      "hb (0, 0.1) Ttest_relResult(statistic=3.9880719158139, pvalue=7.9135899458648723e-05) mel 0.26650408156140204 0.121946146282 sim 0.1909296151397746 0.0936893326274\n",
      "hb (0.2, 0.5) Ttest_relResult(statistic=-0.83449572952025453, pvalue=0.40449731296552183) mel 0.12129502360069354 0.39171448021 sim 0.1299268058938712 0.290900839573\n",
      "Kr (0.33, 0.44) Ttest_relResult(statistic=-0.67745794570282203, pvalue=0.49850513161658261) mel 0.1172213409201112 0.0737802715166 sim 0.12476972148702709 0.403734158847\n",
      "Kr (0.55, 0.72) Ttest_relResult(statistic=-1.2880487925588353, pvalue=0.19846989329053938) mel 0.11073068603157352 0.341332107962 sim 0.1252904655826962 0.0636096868853\n"
     ]
    }
   ],
   "source": [
    "run Compare_svASE_TF_effects.py"
   ]
  },
  {
   "cell_type": "code",
   "execution_count": 10,
   "metadata": {
    "collapsed": true
   },
   "outputs": [],
   "source": [
    "region_name, tf, region = 'hb_ant_tip', 'hb', (0, 0.1)\n",
    "peak_genes = {line.strip() for line in\n",
    "                  open(\n",
    "                      #'analysis/results/{}_1000_peak_genes_2500bp_tss.txt'\n",
    "                      'analysis/results/hb_wt_emd_0.1.txt'\n",
    "                      #'analysis/results/{}_tss_genes.txt'\n",
    "                      .format(tf.lower()))\n",
    "                  if line.strip() in expr.index}\n",
    "peak_genes.add(tf)\n",
    "\n",
    "all_in_region_ix = (region[0] <= xs) & (xs < region[1])\n",
    "mel_in_region_ix = (region[0] <= mel_xs) & (mel_xs < region[1])\n",
    "sim_in_region_ix = (region[0] <= sim_xs) & (sim_xs < region[1])\n",
    "parental_in_region_ix = (region[0] <= parental_xs) & (parental_xs < region[1])\n",
    "\n",
    "gene_expr_level = parental.ix[peak_genes, parental_in_region_ix].min(axis=1)\n",
    "expr_in_region = ut.true_index(gene_expr_level > -1)\n",
    "\n",
    "non_mat_expr_genes = expr_in_region.difference(mat_genes)\n",
    "non_mat_expr_genes = mel_sim_ratio.ix[non_mat_expr_genes,\n",
    "                                       mel_in_region_ix].mean(axis=1).sort_values().index\n",
    "nmegs.append(non_mat_expr_genes)\n",
    " \n",
    "mel_in_region = (melXmel.ix[non_mat_expr_genes, mel_in_region_ix]\n",
    "                  .divide(parental.ix[non_mat_expr_genes, :]\n",
    "                          .max(axis=1), axis=0)\n",
    "                  .mean(axis=1))\n",
    "sim_in_region = (simXsim.ix[non_mat_expr_genes, sim_in_region_ix]\n",
    "                  .divide(parental.ix[non_mat_expr_genes, :]\n",
    "                          .max(axis=1), axis=0)\n",
    "                  .mean(axis=1))"
   ]
  },
  {
   "cell_type": "code",
   "execution_count": 12,
   "metadata": {
    "collapsed": false
   },
   "outputs": [
    {
     "name": "stdout",
     "output_type": "stream",
     "text": [
      "Six4\n",
      "CG10073\n",
      "shu\n",
      "grn\n",
      "Cyp6d5\n",
      "comm\n",
      "robls54B\n",
      "ste14\n",
      "CG34205\n",
      "Pask\n",
      "CG6415\n",
      "Toll-6\n",
      "CG6388\n",
      "Snm1\n",
      "CG10062\n",
      "CG13893\n",
      "DNaseII\n",
      "ana\n",
      "bam\n",
      "CG10253\n",
      "CG13749\n",
      "unc-5\n",
      "dare\n",
      "E(spl)m6-BFM\n",
      "Send2\n",
      "CG16886\n",
      "ry\n",
      "CG9416\n",
      "hid\n",
      "CG12496\n",
      "Obp99a\n",
      "pyd3\n",
      "Edg78E\n",
      "Cad88C\n",
      "CG8586\n",
      "Orct2\n",
      "toy\n",
      "stumps\n",
      "CG12708\n",
      "CG5846\n",
      "CG43085\n",
      "aos\n",
      "Cht2\n",
      "bowl\n",
      "upd2\n",
      "puc\n",
      "Mkp3\n",
      "Cpr72Ea\n",
      "Hmx\n",
      "CG18598\n",
      "CG17294\n",
      "CG15646\n",
      "spartin\n",
      "CG11655\n",
      "insc\n",
      "CG13921\n",
      "CG43318\n",
      "E(spl)mdelta-HLH\n",
      "jar\n",
      "CG8519\n",
      "brv2\n",
      "Cyt-c1L\n",
      "Cpr78Cb\n",
      "CG3829\n",
      "Pebp1\n",
      "CG34007\n",
      "Cpr72Eb\n",
      "pdm2\n",
      "CG10357\n"
     ]
    }
   ],
   "source": [
    "print('\\n'.join(ut.true_index((mel_in_region - sim_in_region) < -.25)))"
   ]
  },
  {
   "cell_type": "code",
   "execution_count": 8,
   "metadata": {
    "collapsed": false
   },
   "outputs": [
    {
     "data": {
      "text/plain": [
       "'Kr_central'"
      ]
     },
     "execution_count": 8,
     "metadata": {},
     "output_type": "execute_result"
    }
   ],
   "source": [
    "region_name"
   ]
  },
  {
   "cell_type": "code",
   "execution_count": 9,
   "metadata": {
    "collapsed": false
   },
   "outputs": [
    {
     "data": {
      "text/plain": [
       "{'Kr_central': ('Kr', (0.55, 0.72)),\n",
       " 'Kr_post_bg': ('Kr', (0.74, 0.85)),\n",
       " 'hb_ant_stripe': ('hb', (0.2, 0.5)),\n",
       " 'hb_ant_tip': ('hb', (0, 0.1)),\n",
       " 'hb_interstripe': ('hb', (0.6, 0.75)),\n",
       " 'hb_post_stripe': ('hb', (0.8, 0.9)),\n",
       " 'kr_ant_bg': ('Kr', (0.33, 0.44))}"
      ]
     },
     "execution_count": 9,
     "metadata": {},
     "output_type": "execute_result"
    }
   ],
   "source": [
    "target_regions"
   ]
  },
  {
   "cell_type": "code",
   "execution_count": null,
   "metadata": {
    "collapsed": true
   },
   "outputs": [],
   "source": []
  }
 ],
 "metadata": {
  "anaconda-cloud": {},
  "kernelspec": {
   "display_name": "Python [conda root]",
   "language": "python",
   "name": "conda-root-py"
  },
  "language_info": {
   "codemirror_mode": {
    "name": "ipython",
    "version": 3
   },
   "file_extension": ".py",
   "mimetype": "text/x-python",
   "name": "python",
   "nbconvert_exporter": "python",
   "pygments_lexer": "ipython3",
   "version": "3.5.2"
  }
 },
 "nbformat": 4,
 "nbformat_minor": 1
}
